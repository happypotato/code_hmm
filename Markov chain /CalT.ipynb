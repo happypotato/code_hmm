{
 "cells": [
  {
   "cell_type": "code",
   "execution_count": 17,
   "metadata": {
    "collapsed": true
   },
   "outputs": [],
   "source": [
    "import os\n",
    "import sys\n",
    "import numpy as np\n",
    "from random import randint\n",
    "\n",
    "def CalcT(m, obs):\n",
    "    #Input: observations-x(a matrix with each row is a one-hot vector), \n",
    "    #       number of hidden states-n(length of one-hot vector)\n",
    "    #Output: transition matrix-T\n",
    "    p=np.zeros(shape=(m,m)) #Initialzie\n",
    "    \n",
    "    \n",
    "    p = np.dot(x[1:len(obs),].transpose(),x[0:len(obs)-1,])\n",
    "    row_sums_p= p.sum(axis=1)\n",
    "    T = p*1.0 / row_sums_p[:, np.newaxis]    \n",
    "                \n",
    "    return T"
   ]
  },
  {
   "cell_type": "code",
   "execution_count": 20,
   "metadata": {
    "collapsed": true
   },
   "outputs": [],
   "source": [
    "m=4 #choose number of hidden states = 4\n",
    "x=np.array([[0,1,0,0],[0,1,0,0],[0,0,0,1],[0,0,0,0],[0,0,0,1],[1,0,0,0],[0,1,0,0],[0,0,1,0],[0,1,0,0],[1,0,0,0],[0,0,1,0],[0,0,0,0],[0,1,0,0]])\n",
    "#random generate some ont-hot vector"
   ]
  },
  {
   "cell_type": "code",
   "execution_count": 21,
   "metadata": {
    "collapsed": false
   },
   "outputs": [
    {
     "data": {
      "text/plain": [
       "array([[ 0.        ,  0.5       ,  0.        ,  0.5       ],\n",
       "       [ 0.33333333,  0.33333333,  0.33333333,  0.        ],\n",
       "       [ 0.5       ,  0.5       ,  0.        ,  0.        ],\n",
       "       [ 0.        ,  1.        ,  0.        ,  0.        ]])"
      ]
     },
     "execution_count": 21,
     "metadata": {},
     "output_type": "execute_result"
    }
   ],
   "source": [
    "CalcT(m, x) #return the transition probability"
   ]
  }
 ],
 "metadata": {
  "kernelspec": {
   "display_name": "Python [conda root]",
   "language": "python",
   "name": "conda-root-py"
  },
  "language_info": {
   "codemirror_mode": {
    "name": "ipython",
    "version": 2
   },
   "file_extension": ".py",
   "mimetype": "text/x-python",
   "name": "python",
   "nbconvert_exporter": "python",
   "pygments_lexer": "ipython2",
   "version": "2.7.12"
  }
 },
 "nbformat": 4,
 "nbformat_minor": 1
}
