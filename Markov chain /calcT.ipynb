{
 "cells": [
  {
   "cell_type": "code",
   "execution_count": 3,
   "metadata": {
    "collapsed": true
   },
   "outputs": [],
   "source": [
    "import os\n",
    "import sys\n",
    "import numpy as np\n",
    "from random import randint\n",
    "\n",
    "def CalcT(m, obs):\n",
    "    #Input: observations-x(a matrix with each row is a one-hot vector), \n",
    "    #       number of hidden states-n(length of one-hot vector)\n",
    "    #Output: transition matrix-T\n",
    "    p=np.zeros(shape=(m,m)) #Initialzie\n",
    "    for t in range(len(obs)):\n",
    "        p=p+np.outer(obs[t-1],obs[t]) # For any two one hot vector, if the i-th element of v1 is 1, and j-th element \n",
    "        #of v2 is 1, than the outer product of v1, v2 is a matrix M with M(ij)=1 and other element equal to 0. \n",
    "        \n",
    "    for i in range(m): # Normalize to transition matrix so that row sum is 1\n",
    "        if np.sum(p[i,:])==0: # if row sum is 0, then each element in this row is 1\n",
    "            p[i,:]=np.zeros(self.m)\n",
    "        else:\n",
    "            p[i,:] = p[i,:] / np.sum(p[i,:])\n",
    "                \n",
    "    return p"
   ]
  },
  {
   "cell_type": "code",
   "execution_count": 4,
   "metadata": {
    "collapsed": false
   },
   "outputs": [],
   "source": [
    "m=4 #choose number of hidden states = 4\n",
    "x=np.array([[0,1,0,0],[0,0,0,1],[0,0,0,1],[1,0,0,0],[0,1,0,0],[0,0,1,0],[0,1,0,0],[1,0,0,0],[0,0,1,0]])\n",
    "#random generate some ont-hot vector"
   ]
  },
  {
   "cell_type": "code",
   "execution_count": 5,
   "metadata": {
    "collapsed": false
   },
   "outputs": [
    {
     "data": {
      "text/plain": [
       "array([[ 0.        ,  0.5       ,  0.5       ,  0.        ],\n",
       "       [ 0.33333333,  0.        ,  0.33333333,  0.33333333],\n",
       "       [ 0.        ,  1.        ,  0.        ,  0.        ],\n",
       "       [ 0.5       ,  0.        ,  0.        ,  0.5       ]])"
      ]
     },
     "execution_count": 5,
     "metadata": {},
     "output_type": "execute_result"
    }
   ],
   "source": [
    "CalcT(m, x) #return the transition probability"
   ]
  },
  {
   "cell_type": "code",
   "execution_count": null,
   "metadata": {
    "collapsed": true
   },
   "outputs": [],
   "source": []
  }
 ],
 "metadata": {
  "anaconda-cloud": {},
  "kernelspec": {
   "display_name": "Python [conda root]",
   "language": "python",
   "name": "conda-root-py"
  },
  "language_info": {
   "codemirror_mode": {
    "name": "ipython",
    "version": 2
   },
   "file_extension": ".py",
   "mimetype": "text/x-python",
   "name": "python",
   "nbconvert_exporter": "python",
   "pygments_lexer": "ipython2",
   "version": "2.7.12"
  }
 },
 "nbformat": 4,
 "nbformat_minor": 1
}
