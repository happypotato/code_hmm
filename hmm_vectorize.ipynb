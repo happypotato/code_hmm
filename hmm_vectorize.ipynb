{
 "cells": [
  {
   "cell_type": "code",
   "execution_count": 104,
   "metadata": {
    "collapsed": true
   },
   "outputs": [],
   "source": [
    "import os\n",
    "import sys\n",
    "import numpy as np\n",
    "from random import randint\n",
    "\n",
    "class HMM(object): \n",
    "    # base class for different HMM models\n",
    "    def __init__(self, T, O, pi):\n",
    "        # model is (T, O, pi) where T = Transition probs(hidden_states*hidden_states), \n",
    "        # O = Emission Probs(hidden_states*states), pi = initial distribution(hidden_states)               \n",
    "        if T is None:\n",
    "            print \"Error: You should provide the transition matrix\"\n",
    "            sys.exit() # Read in parameters from the file of model_name\n",
    "        if O is None:\n",
    "            print \"Error: You should provide the emission matrix\"\n",
    "            sys.exit() # Read in parameters from the file of model_name\n",
    "        if pi is None:\n",
    "            print \"Error: You should provide the initial probability\"\n",
    "            sys.exit() # Read in parameters from the file of model_name           \n",
    "        self.pi=pi\n",
    "        self.T=T\n",
    "        self.O=O\n",
    "        self.M=T.shape[1]  # M:number of hidden states of the model\n",
    "        self.N=O.shape[1]  # N:number of states of the model\n",
    "\n",
    "        \n",
    "    def backward(self, obs):\n",
    "        # This function is for backward algorithm, suppose that T, O, pi \n",
    "        #are given, and it calculates a bwk matrix (obs*states).\n",
    "        # The backward algorithm can be used to calculate the likelihood \n",
    "        #of the probability P(Y_{k+1}, ... , Y_n|t_k=C)\n",
    "        #=sum_q P(Y_{k+2}, ... , Y_n|t_{k+1}=q)P(q|C)P(x_{k+1}|q)\n",
    "        #The backward probability b is the probability of seeing the observations from \n",
    "        #time t + 1 to the end, given that we are in state i at time t\n",
    "        self.bwk = np.zeros(shape=(len(obs),self.M))\n",
    "        #[[0 for x in range(self.M)] for y in range(len(obs))] \n",
    "        # Initalize bwk to be empty matrix T*M\n",
    "        # Initialize base cases (t == T)\n",
    "        self.bwk[len(obs)-1,:]=np.ones(self.M)\n",
    "        #for y in range(self.M):\n",
    "            #self.bwk[len(obs)-1][y] = 1 \n",
    "        for t in reversed(range(len(obs)-1)):\n",
    "            self.bwk[t,:] = sum((self.bwk[t+1][y1] * self.T[:,y1] * self.O[y1][obs[t+1]]) \n",
    "                                    for y1 in range(self.M))                   \n",
    "        #for t in reversed(range(len(obs)-1)):\n",
    "            #for y in range(self.M):\n",
    "                #self.bwk[t][y] = sum((self.bwk[t+1][y1] * self.T[y][y1] * self.O[y1][obs[t+1]]) \n",
    "                                    #for y1 in range(self.M))\n",
    "                #beta_k(C)=\\sum_q beta_{k+1}(q)P(q|C)P(w_{k+1}|q)\n",
    "        prob = sum((self.pi[0][y]* self.O[y][obs[0]] * self.bwk[0][y]) for y in range(self.M))\n",
    "\n",
    "        return prob \n",
    "        #This prob is the likelihood of the input obs   \n",
    " \n",
    "\n",
    "    def forward(self, obs):\n",
    "        # This function is for forward algorithm, suppose that A, B, pi are given, \n",
    "        #and it calculates a fwd matrix (obs*states).\n",
    "        # The forward algorithm can be used to calculate the likelihood of the model\n",
    "        #P(Y1, ... , Yn)=sum_t(\\prod_i P(Y[i]|t[i])P(t[i]|t[i-1])\n",
    "        self.fwd = np.zeros(shape=(len(obs),self.M)) \n",
    "        #Initalize fwk to be empty matrix, and finally fwd is T*M\n",
    "        # Initialize base cases (t == 0)\n",
    "        self.fwd[0,:]=self.pi[0,:] * self.O[:,obs[0]] \n",
    "        #for y in range(self.M):\n",
    "            #self.fwd[0][y] = self.pi[0][y] * self.O[y][obs[0]] \n",
    "            #alpha_1(q)=p(w1,t1=q)=P(t1=q|t0)*p(w1|t1=q)\n",
    "        # Run Forward algorithm for t > 0\n",
    "\n",
    "        for t in range(1, len(obs)):\n",
    "            self.fwd[t,:] = sum((self.fwd[t-1][y0] * self.T[y0,:] * self.O[:,obs[t]]) \n",
    "                                     for y0 in range(self.M))               \n",
    "        #for t in range(1, len(obs)):\n",
    "            #for y in range(self.M):\n",
    "                #self.fwd[t][y] = sum((self.fwd[t-1][y0] * self.T[y0][y] * self.O[y][obs[t]]) \n",
    "                                     #for y0 in range(self.M))\n",
    "                #alpha_k(q)=\\sum_q1 alpha_{k-1}(q1)P(t_k=q|t_{k-1}=q1)P(w_k|t+k=q)\n",
    "        prob = sum((self.fwd[len(obs) - 1][s]) for s in range(self.M))\n",
    "        # The likelihood of input equals to the summation of fwd[N][t]\n",
    "        return prob\n",
    "\n",
    "    \n",
    "    def viterbi(self, obs):\n",
    "    #the task of determining which sequence of variables is the underlying source \n",
    "    #of some sequence of observations is called the decoding task\n",
    "    #Decoding: Given as input an HMM = (A, B, pi) and a sequence of observations \n",
    "    #O = Y_1, ... Y_N, find the most probable sequence of states Q = X_1, ... X_T.\n",
    "    # Goal: find the best path!\n",
    "    # argmax_t P(Y1, ... Y_N, X_1, ..., X_T|A, B, pi)\n",
    "        vit = np.zeros(shape=(len(obs),self.M))\n",
    "        #[[0 for x in range(self.M)] for y in range(len(obs))] \n",
    "        # matrix\n",
    "        path = {} \n",
    "        # path\n",
    "        # Initialize base cases (t == 0)\n",
    "        vit[0,:] = self.pi[0,:] * self.O[:,obs[0]]\n",
    "        for y in range(self.M):\n",
    "            path[y] = [y]           \n",
    "        #for y in range(self.M):\n",
    "            #vit[0][y] = self.pi[0][y] * self.O[y][obs[0]]\n",
    "            #path[y] = [y]\n",
    "        \n",
    "        # Run Viterbi for t > 0\n",
    "        \n",
    "        for t in range(1, len(obs)):\n",
    "            newpath = {}\n",
    "            for y in range(self.M):\n",
    "                (prob, state) = max((vit[t-1][y0] * self.T[y0][y] * self.O[y][obs[t]], y0) \n",
    "                                    for y0 in range(self.M))\n",
    "                vit[t][y] = prob\n",
    "                newpath[y] = path[state] + [y]\n",
    "            # Don't need to remember the old paths\n",
    "            path = newpath\n",
    "        n = 0                      \n",
    "        # if only one element is observed max is sought in the initialization values\n",
    "        if len(obs)!=1:\n",
    "            n = t\n",
    "        (prob, state) = max((vit[n][y], y) for y in range(self.M))\n",
    "        return (prob, path[state])\n",
    "\n",
    "    \n",
    "    \n",
    "    def forward_backward(self, obs): \n",
    "        #Output matrix gamma: gamma[t][y]=P(q_t=j|Y_1, ..., Y_N,A,B,pi)\n",
    "        #and tensor zi: zi[t][i][j]=P(q_t=i,q_{t+1}=j|Y_1, ..., Y_N,A,B,pi)\n",
    "        gamma = np.zeros(shape=(len(obs),self.M))\n",
    "        # this is needed to keep track of finding a state i at a time t for all i and all t\n",
    "        zi= np.zeros(shape=(len(obs),self.M,self.M))\n",
    "        #zi = [[[0 for x in range(self.M)] for y in range(self.M)] for z in range(len(obs))]  \n",
    "        # this is needed to keep track of finding a state i at a time t and j at a time (t+1) \n",
    "        #for all i and all j and all t\n",
    "        # get alpha and beta tables computes\n",
    "        p_obs = self.forward(obs)\n",
    "        self.backward(obs)\n",
    "        # compute gamma values\n",
    "        for t in range(len(obs)):\n",
    "            gamma[t,:] = (self.fwd[t,:] * self.bwk[t,:]) / p_obs\n",
    "            if t == 0:\n",
    "                self.pi[0][y] = gamma[t][y]\n",
    "                #gamma[t][y]=P(q_t=j|Y_1, ..., Y_N,A,B,pi)\n",
    "                #=P(q_t=j,Y_1, ..., Y_N|A,B,pi)/P(Y_1, ..., Y_N|A,B,pi)\n",
    "                #=alpha_t(j)beta_t(j)/P(Y_1, ..., Y_N|A,B,pi)\n",
    "                #compute zi values up to T - 1\n",
    "            if t == len(obs) - 1:\n",
    "                continue\n",
    "            for y1 in range(self.M):\n",
    "                zi[t,:,y1] = self.fwd[t,:] * self.T[y][y1] * self.O[y1][obs[t + 1]] * self.bwk[t + 1][y1] / p_obs\n",
    "        #zi[t][i][j]=P(q_t=i,q_{t+1}=j|Y_1, ..., Y_N,A,B,pi)       \n",
    "        #=P(q_t=i,q_{t+1}=j,Y_1, ..., Y_N|A,B,pi)/P(Y_1, ..., Y_N|A,B,pi)\n",
    "        #=alpha_t(i)a_{ij}b_j(O_{t+1})beta_{t+1}(j)/apha_t(X_T)\n",
    "        return (gamma,zi)\n",
    "    \n",
    "    \n",
    "    def baum_welch(self,obs):\n",
    "        # returns model given the initial model and observations  \n",
    "        #The Baum-Welch algorithm iteratively estimate the counts.\n",
    "        #We will start with an estimate for the transition and observation probabilities and \n",
    "        #then use these estimated probabilities to derive better and better probabilities. \n",
    "        #We get our estimated probabilities by computing the forward probability for \n",
    "        #an observation and then dividing that probability mass among all the different \n",
    "        #paths that contributed to this forward probability.\n",
    "        gamma = [[0 for x in range(self.M)] for y in range(len(obs))]\n",
    "        zi = [[[0 for x in range(self.M)] for y in range(self.M)] for z in range(len(obs))]  \n",
    "\n",
    "        # now that we have gamma and zi let us re-estimate\n",
    "        (gamma,zi)=self.forward_backward(obs)\n",
    "        for y in range(self.M):\n",
    "            for y1 in range(self.M):\n",
    "                # we will now compute new a_ij\n",
    "                #a_{ij)=expected number of transitions from state i to state j/expected number \n",
    "                #of transitions from state i\n",
    "                val = sum([zi[t][y][y1] for t in range(len(obs) - 1)]) #\n",
    "                val /= sum([gamma[t][y] for t in range(len(obs) - 1)])\n",
    "                self.T[y][y1] = val\n",
    "        # re estimate gamma\n",
    "        for y in range(self.M):\n",
    "            for k in range(self.N): \n",
    "                # for all symbols vk\n",
    "                val = 0.0\n",
    "                for t in range(len(obs)):\n",
    "                    if obs[t] == k :\n",
    "                        val += gamma[t][y]\n",
    "                val /= sum([gamma[t][y] for t in range(len(obs))])\n",
    "                self.O[y][k] = val\n",
    "                    #b_j(v_k)=expected number of times in state j and observing symbol vk/expected \n",
    "                    #number of times in state j\n",
    "        return"
   ]
  },
  {
   "cell_type": "code",
   "execution_count": 113,
   "metadata": {
    "collapsed": true
   },
   "outputs": [],
   "source": [
    "M=randint(1,10)\n",
    "N=randint(1,10)   \n",
    "T_raw = np.random.random((M, M)) \n",
    "row_sums_T= T_raw.sum(axis=1)\n",
    "T = T_raw / row_sums_T[:, np.newaxis]\n",
    "# Get transition probability\n",
    "O_raw = np.random.random((M, N))\n",
    "row_sums_O = O_raw.sum(axis=1)\n",
    "O = O_raw / row_sums_O[:, np.newaxis]\n",
    "# Get emission probability\n",
    "pi_raw = np.random.random((1, M)) \n",
    "row_sums_pi = pi_raw.sum(axis=1)\n",
    "pi = pi_raw / row_sums_pi[:, np.newaxis]\n",
    "# Get initial probability\n",
    "hmm=HMM(T,O,pi)"
   ]
  },
  {
   "cell_type": "code",
   "execution_count": 114,
   "metadata": {
    "collapsed": false
   },
   "outputs": [
    {
     "name": "stdout",
     "output_type": "stream",
     "text": [
      "M= 6 N= 7 Observations =  [1, 4, 0, 6, 1, 2, 4, 6, 1]\n"
     ]
    }
   ],
   "source": [
    "#M=randint(0,10)\n",
    "#N=randint(0,10)\n",
    "#hmm=HMM(M,N)\n",
    "T=randint(1,10)\n",
    "observations = []\n",
    "for i in xrange(0,T):\n",
    "    observations.append(randint(0,N-1))\n",
    "#observations=[1,0,1,1]\n",
    "print \"M=\", M, \"N=\", N, \"Observations = \", observations"
   ]
  },
  {
   "cell_type": "code",
   "execution_count": 115,
   "metadata": {
    "collapsed": false
   },
   "outputs": [
    {
     "name": "stdout",
     "output_type": "stream",
     "text": [
      " Bwk Prob =  5.54019329169e-08\n"
     ]
    }
   ],
   "source": [
    "p1=hmm.backward(observations)\n",
    "print \" Bwk Prob = \", p1"
   ]
  },
  {
   "cell_type": "code",
   "execution_count": 116,
   "metadata": {
    "collapsed": false
   },
   "outputs": [
    {
     "name": "stdout",
     "output_type": "stream",
     "text": [
      " Fwd Prob =  5.54019329169e-08\n"
     ]
    }
   ],
   "source": [
    "p2=hmm.forward(observations)\n",
    "print \" Fwd Prob = \", p2"
   ]
  },
  {
   "cell_type": "code",
   "execution_count": 117,
   "metadata": {
    "collapsed": false
   },
   "outputs": [
    {
     "name": "stdout",
     "output_type": "stream",
     "text": [
      "Max Probability =  8.45891913824e-12  Hidden State Sequence =  [4, 3, 0, 3, 4, 3, 0, 3, 4]\n"
     ]
    }
   ],
   "source": [
    "prob, hidden_states = hmm.viterbi(observations)\n",
    "print \"Max Probability = \", prob, \" Hidden State Sequence = \", hidden_states"
   ]
  },
  {
   "cell_type": "code",
   "execution_count": 118,
   "metadata": {
    "collapsed": false
   },
   "outputs": [
    {
     "name": "stdout",
     "output_type": "stream",
     "text": [
      "zi=  [[[ 0.03526616  0.01500547  0.00442107  0.04634348  0.00981426  0.00706527]\n",
      "  [ 0.02112092  0.00898678  0.00264778  0.02775513  0.00587777  0.00423139]\n",
      "  [ 0.08544657  0.03635683  0.01071184  0.11228588  0.02377903  0.01711847]\n",
      "  [ 0.00475606  0.00202366  0.00059623  0.00624996  0.00132357  0.00095283]\n",
      "  [ 0.15409392  0.06556573  0.01931768  0.20249579  0.04288298  0.03087137]\n",
      "  [ 0.01311237  0.00557921  0.00164381  0.01723104  0.00364906  0.00262695]]\n",
      "\n",
      " [[ 0.0776367   0.02821503  0.00564493  0.11098838  0.02580688  0.01526041]\n",
      "  [ 0.03409182  0.01238978  0.0024788   0.04873721  0.01133232  0.00670115]\n",
      "  [ 0.04654357  0.01691504  0.00338416  0.06653806  0.01547135  0.00914869]\n",
      "  [ 0.08152144  0.02962684  0.00592739  0.11654195  0.02709819  0.016024  ]\n",
      "  [ 0.04053358  0.01473087  0.00294718  0.05794626  0.0134736   0.00796736]\n",
      "  [ 0.03446982  0.01252716  0.00250629  0.04927759  0.01145797  0.00677545]]\n",
      "\n",
      " [[ 0.05282168  0.08415692  0.00730986  0.07962397  0.04749898  0.03735123]\n",
      "  [ 0.01403995  0.02236882  0.00194295  0.02116397  0.01262518  0.00992792]\n",
      "  [ 0.01560853  0.02486793  0.00216003  0.02352847  0.0140357   0.01103709]\n",
      "  [ 0.04942513  0.07874544  0.00683982  0.07450398  0.0444447   0.03494946]\n",
      "  [ 0.03011502  0.04798005  0.00416754  0.0453957   0.02708041  0.02129491]\n",
      "  [ 0.01019581  0.01624423  0.00141097  0.01536927  0.0091684   0.00720965]]\n",
      "\n",
      " [[ 0.02564554  0.05909373  0.00699773  0.01193959  0.04740256  0.02627409]\n",
      "  [ 0.02265105  0.05219369  0.00618065  0.01054547  0.04186763  0.02320621]\n",
      "  [ 0.00985318  0.02270419  0.00268857  0.00458726  0.01821236  0.01009467]\n",
      "  [ 0.02063317  0.04754399  0.00563004  0.00960602  0.03813783  0.02113887]\n",
      "  [ 0.03223323  0.07427343  0.00879527  0.01500657  0.05957909  0.03302324]\n",
      "  [ 0.01189075  0.02739926  0.00324455  0.00553588  0.02197856  0.01218218]]\n",
      "\n",
      " [[ 0.02809823  0.01597177  0.0040858   0.05079111  0.00736213  0.01032771]\n",
      "  [ 0.05374214  0.03054844  0.00781471  0.09714572  0.01408119  0.01975332]\n",
      "  [ 0.03443739  0.01957512  0.00500758  0.06224994  0.00902307  0.01265771]\n",
      "  [ 0.00931365  0.00529412  0.00135431  0.0168356   0.0024403   0.0034233 ]\n",
      "  [ 0.09733662  0.0553287   0.01415383  0.17594828  0.02550355  0.03577679]\n",
      "  [ 0.03663108  0.02082207  0.00532657  0.06621531  0.00959785  0.01346402]]\n",
      "\n",
      " [[ 0.0622406   0.02821785  0.0083798   0.08060026  0.01961342  0.01721178]\n",
      "  [ 0.0324316   0.01470343  0.00436645  0.04199823  0.01021993  0.00896851]\n",
      "  [ 0.05265261  0.02387097  0.00708891  0.06818401  0.01659203  0.01456036]\n",
      "  [ 0.07671723  0.03478109  0.01032887  0.09934718  0.02417534  0.0212151 ]\n",
      "  [ 0.03213131  0.01456729  0.00432602  0.04160936  0.0101253   0.00888547]\n",
      "  [ 0.03407762  0.01544968  0.00458806  0.0441298   0.01073863  0.0094237 ]]\n",
      "\n",
      " [[ 0.04877787  0.07666933  0.00677554  0.07253999  0.0439736   0.0341286 ]\n",
      "  [ 0.01572574  0.0247178   0.0021844   0.02338652  0.01417686  0.01100288]\n",
      "  [ 0.02808669  0.04414682  0.00390141  0.04176911  0.02532036  0.01965152]\n",
      "  [ 0.04038083  0.06347081  0.00560914  0.06005233  0.03640361  0.0282534 ]\n",
      "  [ 0.0268286   0.04216934  0.00372665  0.03989814  0.02418618  0.01877127]\n",
      "  [ 0.01343614  0.021119    0.00186636  0.01998155  0.01211278  0.00940091]]\n",
      "\n",
      " [[ 0.02279748  0.05702743  0.00644103  0.01174662  0.04540864  0.02733419]\n",
      "  [ 0.02110969  0.05280545  0.00596417  0.01087697  0.04204685  0.02531052]\n",
      "  [ 0.0101211   0.02531774  0.00285954  0.005215    0.02015949  0.01213521]\n",
      "  [ 0.01895154  0.04740689  0.00535443  0.00976496  0.03774819  0.0227229 ]\n",
      "  [ 0.02909077  0.07276998  0.00821909  0.0149893   0.05794379  0.03487985]\n",
      "  [ 0.01174091  0.02936965  0.00331719  0.00604962  0.02338587  0.01407736]]\n",
      "\n",
      " [[ 0.          0.          0.          0.          0.          0.        ]\n",
      "  [ 0.          0.          0.          0.          0.          0.        ]\n",
      "  [ 0.          0.          0.          0.          0.          0.        ]\n",
      "  [ 0.          0.          0.          0.          0.          0.        ]\n",
      "  [ 0.          0.          0.          0.          0.          0.        ]\n",
      "  [ 0.          0.          0.          0.          0.          0.        ]]]\n",
      "gamma= [[ 0.11791571  0.07020268  0.27566507  0.01598604  0.48085081  0.03937968]\n",
      " [ 0.26355234  0.10343343  0.14446453  0.27655501  0.12430186  0.08769282]\n",
      " [ 0.30876264  0.07775915  0.08939709  0.28288452  0.17980815  0.06138844]\n",
      " [ 0.17735324  0.19019715  0.07652729  0.17423056  0.26216693  0.11952483]\n",
      " [ 0.11663675  0.20549629  0.13805867  0.03493233  0.37494801  0.12992797]\n",
      " [ 0.21626371  0.11435422  0.18178872  0.27036751  0.10674978  0.11047606]\n",
      " [ 0.28286493  0.08684344  0.15993703  0.23060755  0.15914656  0.0806005 ]\n",
      " [ 0.17075538  0.18939954  0.08545794  0.1709961   0.25691335  0.12647769]\n",
      " [ 0.10735525  0.20577057  0.13501107  0.03549046  0.3753609   0.14101175]]\n"
     ]
    }
   ],
   "source": [
    "(gamma,zi)=hmm.forward_backward(observations)\n",
    "print \"zi= \", zi\n",
    "print \"gamma=\", gamma"
   ]
  },
  {
   "cell_type": "code",
   "execution_count": 119,
   "metadata": {
    "collapsed": false
   },
   "outputs": [
    {
     "name": "stdout",
     "output_type": "stream",
     "text": [
      "The new model parameters after 1 iteration are: \n",
      "T =  [[ 0.21031529  0.22385807  0.03001183  0.27649195  0.15178791  0.10753494]\n",
      " [ 0.20735525  0.21055055  0.03239481  0.27169269  0.14645775  0.10500332]\n",
      " [ 0.24700807  0.18447582  0.03286735  0.33567606  0.12320514  0.09179195]\n",
      " [ 0.20672792  0.21258873  0.02863074  0.26905377  0.14559281  0.102288  ]\n",
      " [ 0.22910843  0.19803647  0.03385071  0.30714521  0.13332425  0.09783866]\n",
      " [ 0.2199285   0.19631344  0.03166196  0.29736074  0.13498002  0.09933584]]\n",
      "O =  [[ 0.18082821  0.16639851  0.12736659  0.          0.32040662  0.\n",
      "   0.20500007]\n",
      " [ 0.06270661  0.38998233  0.09171675  0.          0.15132387  0.\n",
      "   0.30427045]\n",
      " [ 0.06859897  0.43203559  0.13847496  0.          0.23731788  0.\n",
      "   0.1235726 ]\n",
      " [ 0.19079145  0.05889552  0.18198251  0.          0.33612202  0.\n",
      "   0.2322085 ]\n",
      " [ 0.07610291  0.53649063  0.04533169  0.          0.12153246  0.\n",
      "   0.22054231]\n",
      " [ 0.06882565  0.34716393  0.12251089  0.          0.18871644  0.\n",
      "   0.27278309]]\n",
      "pi =  [[ 0.05856142  0.0536131   0.29839289  0.08072278  0.27773807  0.03612903]]\n"
     ]
    }
   ],
   "source": [
    "hmm.baum_welch(observations)\n",
    "print \"The new model parameters after 1 iteration are: \"\n",
    "print \"T = \", hmm.T\n",
    "print \"O = \", hmm.O\n",
    "print \"pi = \", hmm.pi"
   ]
  },
  {
   "cell_type": "code",
   "execution_count": null,
   "metadata": {
    "collapsed": true
   },
   "outputs": [],
   "source": []
  },
  {
   "cell_type": "code",
   "execution_count": null,
   "metadata": {
    "collapsed": true
   },
   "outputs": [],
   "source": []
  },
  {
   "cell_type": "code",
   "execution_count": null,
   "metadata": {
    "collapsed": true
   },
   "outputs": [],
   "source": []
  },
  {
   "cell_type": "code",
   "execution_count": null,
   "metadata": {
    "collapsed": true
   },
   "outputs": [],
   "source": []
  }
 ],
 "metadata": {
  "anaconda-cloud": {},
  "kernelspec": {
   "display_name": "Python [conda root]",
   "language": "python",
   "name": "conda-root-py"
  },
  "language_info": {
   "codemirror_mode": {
    "name": "ipython",
    "version": 2
   },
   "file_extension": ".py",
   "mimetype": "text/x-python",
   "name": "python",
   "nbconvert_exporter": "python",
   "pygments_lexer": "ipython2",
   "version": "2.7.12"
  }
 },
 "nbformat": 4,
 "nbformat_minor": 1
}
