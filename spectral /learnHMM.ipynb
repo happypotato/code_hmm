{
 "cells": [
  {
   "cell_type": "code",
   "execution_count": 38,
   "metadata": {
    "collapsed": false
   },
   "outputs": [],
   "source": [
    "import os\n",
    "import sys\n",
    "import numpy as np\n",
    "from random import randint\n",
    "\n",
    "def HMM(n, obs1,obs2,obs3):\n",
    "    #Input: observations-x(a matrix with each row is a one-hot vector), \n",
    "    #       number of hidden states-n(length of one-hot vector)\n",
    "    #Output: transition matrix-T\n",
    "    #p=np.zeros(shape=(n,n)) #Initialzie\n",
    "    \n",
    "    \n",
    "    #step 2 Compute E[x2*x1]\n",
    "    Ex2x1 = np.dot(obs1.transpose(),obs2)\n",
    "    \n",
    "    #step 3 Compute the left k singular vectors corresponding to the top k singular\n",
    "    #values of E[x2*x1]\n",
    "    Uhat, s, V = np.linalg.svd(Ex2x1, full_matrices=True)\n",
    "    U =Uhat[0:k,]\n",
    "    \n",
    "    #step 4 Reduce data: y = U*x.\n",
    "    y1=np.dot(U,obs1.transpose())\n",
    "    y2=np.dot(U,obs2.transpose())\n",
    "    y3=np.dot(U,obs3.transpose())\n",
    "\n",
    "    #step 5 Compute E[Y1], E[Y2*Y1], E[Y3*Y2*Y1]\n",
    "    Ey1=np.sum(y1,axis=1)\n",
    "    Ey2y1=np.dot(y1,y2.transpose())\n",
    "    Ey3y1y2=np.zeros(shape=(k,k,k))\n",
    "    for i in range(k):\n",
    "        for j in range(m):\n",
    "            Ey3y1y2[i,:,:]=Ey3y1y2[i,:,:]+y3[i,j]*np.outer(y1[:,j].transpose(),y2[:,j])\n",
    "        \n",
    "    #step 6 Compute c1, cinfinity\n",
    "    c1=Ey1\n",
    "    cinfT=np.dot(c1.transpose(),np.linalg.inv(Ey2y1))\n",
    "    \n",
    "    #step 7 Compute big C\n",
    "    Cx=np.zeros(shape=(k,k,k))\n",
    "    for i in range(k):\n",
    "        Cx[:,:,i]=np.dot(Ey3y1y2[:,:,i],np.linalg.inv(Ey2y1))\n",
    "   \n",
    "                \n",
    "    return c1,cinfT,Cx"
   ]
  },
  {
   "cell_type": "code",
   "execution_count": 39,
   "metadata": {
    "collapsed": false
   },
   "outputs": [],
   "source": [
    "n=4 #choose number of hidden states = 4\n",
    "obs1=np.array([[0,1,0,0],[0,0,0,1],[0,0,0,1],[1,0,0,0],[0,1,0,0],[0,0,1,0],[0,1,0,0],[1,0,0,0],[0,0,1,0]])\n",
    "obs2=np.array([[0,1,0,0],[0,1,0,0],[0,0,0,1],[1,0,0,0],[0,1,0,0],[0,0,1,0],[0,1,0,0],[1,0,0,0],[0,0,1,0]])\n",
    "obs3=np.array([[0,1,0,0],[0,0,0,1],[0,0,0,0],[0,0,1,0],[0,1,0,0],[1,0,0,0],[0,1,0,0],[1,0,0,0],[0,0,1,0]])\n",
    "#random generate some ont-hot vector\n",
    "m=len(obs1) #size of training examples"
   ]
  },
  {
   "cell_type": "code",
   "execution_count": 40,
   "metadata": {
    "collapsed": false
   },
   "outputs": [],
   "source": [
    "c1,cinfT,Cx=HMM(n, obs1,obs2,obs3)"
   ]
  }
 ],
 "metadata": {
  "kernelspec": {
   "display_name": "Python [conda root]",
   "language": "python",
   "name": "conda-root-py"
  },
  "language_info": {
   "codemirror_mode": {
    "name": "ipython",
    "version": 2
   },
   "file_extension": ".py",
   "mimetype": "text/x-python",
   "name": "python",
   "nbconvert_exporter": "python",
   "pygments_lexer": "ipython2",
   "version": "2.7.12"
  }
 },
 "nbformat": 4,
 "nbformat_minor": 1
}
